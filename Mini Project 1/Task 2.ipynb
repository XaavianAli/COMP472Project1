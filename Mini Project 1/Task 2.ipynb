{
 "cells": [
  {
   "cell_type": "code",
   "execution_count": 31,
   "id": "a06bde9a",
   "metadata": {},
   "outputs": [
    {
     "name": "stdout",
     "output_type": "stream",
     "text": [
      "     LOW  NORMAL  HIGH\n",
      "0      0       0     1\n",
      "1      1       0     0\n",
      "2      1       0     0\n",
      "3      0       1     0\n",
      "4      1       0     0\n",
      "..   ...     ...   ...\n",
      "195    1       0     0\n",
      "196    1       0     0\n",
      "197    0       1     0\n",
      "198    0       1     0\n",
      "199    1       0     0\n",
      "\n",
      "[200 rows x 3 columns]\n"
     ]
    }
   ],
   "source": [
    "import pandas as pd\n",
    "\n",
    "dataset = pd.read_csv(\"drug200.csv\")\n",
    "sex = pd.Categorical(dataset[\"Sex\"].tolist(), categories=['M', 'F'])\n",
    "bp = pd.Categorical(dataset[\"BP\"].tolist(), ordered=True, categories=['LOW', 'NORMAL', 'HIGH'])\n",
    "cholesterol = pd.Categorical(dataset[\"Cholesterol\"].tolist(), ordered=True, categories=['NORMAL', 'HIGH'])\n",
    "drug = pd.Categorical(dataset[\"Drug\"].tolist(), categories=['drugA', 'drugB', 'drugC', 'drugX', 'drugY'])\n",
    "\n",
    "sex = pd.get_dummies(sex)\n",
    "bp = pd.get_dummies(bp)\n",
    "cholesterol = pd.get_dummies(cholesterol)\n",
    "drug = pd.get_dummies(drug)\n",
    "\n",
    "print(bp)"
   ]
  }
 ],
 "metadata": {
  "kernelspec": {
   "display_name": "Python 3 (ipykernel)",
   "language": "python",
   "name": "python3"
  },
  "language_info": {
   "codemirror_mode": {
    "name": "ipython",
    "version": 3
   },
   "file_extension": ".py",
   "mimetype": "text/x-python",
   "name": "python",
   "nbconvert_exporter": "python",
   "pygments_lexer": "ipython3",
   "version": "3.9.5"
  }
 },
 "nbformat": 4,
 "nbformat_minor": 5
}
