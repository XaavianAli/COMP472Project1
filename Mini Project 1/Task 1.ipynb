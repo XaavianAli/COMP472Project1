{
 "cells": [
  {
   "cell_type": "code",
   "execution_count": 150,
   "id": "2e364d99",
   "metadata": {},
   "outputs": [],
   "source": [
    "from sklearn import datasets\n",
    "train = datasets.load_files(\"BBC\", encoding=\"latin1\")"
   ]
  },
  {
   "cell_type": "code",
   "execution_count": 151,
   "id": "0c024283",
   "metadata": {},
   "outputs": [],
   "source": [
    "from sklearn import model_selection\n",
    "trainingData, testingData, trainingTarget, testingTarget = model_selection.train_test_split(train.data, train.target, train_size=0.8, test_size=0.2, random_state=None)"
   ]
  },
  {
   "cell_type": "code",
   "execution_count": 171,
   "id": "882af379",
   "metadata": {},
   "outputs": [],
   "source": [
    "#MultinomialNB default values, try 1\n",
    "from sklearn.feature_extraction.text import CountVectorizer\n",
    "from sklearn.naive_bayes import MultinomialNB\n",
    "from sklearn.feature_extraction.text import TfidfTransformer\n",
    "from sklearn.pipeline import Pipeline\n",
    "text_clf = Pipeline([\n",
    "    ('vect', CountVectorizer()),\n",
    "    ('tfidf', TfidfTransformer()),\n",
    "    ('clf', MultinomialNB()),\n",
    "])\n",
    "text_clf.fit(trainingData, trainingTarget)\n",
    "predicted = text_clf.predict(testingData)"
   ]
  },
  {
   "cell_type": "code",
   "execution_count": 172,
   "id": "ae1c1307",
   "metadata": {},
   "outputs": [
    {
     "name": "stdout",
     "output_type": "stream",
     "text": [
      "[[ 99   0   2   0   0]\n",
      " [  1  57   5   1   3]\n",
      " [  2   0  79   1   0]\n",
      " [  0   0   0 104   0]\n",
      " [  1   0   1   4  85]]\n"
     ]
    }
   ],
   "source": [
    "#(b)\n",
    "from sklearn.metrics import confusion_matrix\n",
    "print(confusion_matrix(testingTarget, predicted))"
   ]
  },
  {
   "cell_type": "code",
   "execution_count": 155,
   "id": "6ab70d15",
   "metadata": {},
   "outputs": [
    {
     "name": "stdout",
     "output_type": "stream",
     "text": [
      "               precision    recall  f1-score   support\n",
      "\n",
      "     business       0.96      0.98      0.97       101\n",
      "entertainment       1.00      0.85      0.92        67\n",
      "     politics       0.91      0.96      0.93        82\n",
      "       sports       0.95      1.00      0.97       104\n",
      "         tech       0.97      0.93      0.95        91\n",
      "\n",
      "     accuracy                           0.95       445\n",
      "    macro avg       0.96      0.95      0.95       445\n",
      " weighted avg       0.95      0.95      0.95       445\n",
      "\n"
     ]
    }
   ],
   "source": [
    "#(c) and (d)\n",
    "from sklearn.metrics import classification_report\n",
    "target_names = ['business', 'entertainment', 'politics', 'sports', 'tech']\n",
    "print(classification_report(testingTarget, predicted, target_names=target_names))"
   ]
  },
  {
   "cell_type": "code",
   "execution_count": 156,
   "id": "d95f32dc",
   "metadata": {},
   "outputs": [
    {
     "name": "stdout",
     "output_type": "stream",
     "text": [
      "0.952808988764045\n"
     ]
    }
   ],
   "source": [
    "#(d)\n",
    "from sklearn.metrics import accuracy_score\n",
    "print(accuracy_score(testingTarget, predicted))"
   ]
  },
  {
   "cell_type": "code",
   "execution_count": 182,
   "id": "5a0bf9e7",
   "metadata": {},
   "outputs": [
    {
     "data": {
      "text/plain": [
       "836357"
      ]
     },
     "execution_count": 182,
     "metadata": {},
     "output_type": "execute_result"
    }
   ],
   "source": [
    "#(h)\n",
    "x = text_clf[\"vect\"].fit_transform(train.data).toarray().sum(axis=0)\n",
    "sum = 0\n",
    "for n in x:\n",
    "    sum += n\n",
    "sum"
   ]
  },
  {
   "cell_type": "code",
   "execution_count": 183,
   "id": "db9e42cd",
   "metadata": {},
   "outputs": [
    {
     "data": {
      "text/plain": [
       "29421"
      ]
     },
     "execution_count": 183,
     "metadata": {},
     "output_type": "execute_result"
    }
   ],
   "source": [
    "#(f)\n",
    "len(x)"
   ]
  },
  {
   "cell_type": "code",
   "execution_count": 184,
   "id": "0c73e504",
   "metadata": {},
   "outputs": [
    {
     "data": {
      "text/plain": [
       "10005"
      ]
     },
     "execution_count": 184,
     "metadata": {},
     "output_type": "execute_result"
    }
   ],
   "source": [
    "#(j)\n",
    "y = [i for i in x if i == 1]\n",
    "len(y)"
   ]
  },
  {
   "cell_type": "code",
   "execution_count": 167,
   "id": "be7820a0",
   "metadata": {},
   "outputs": [],
   "source": [
    "#MultinomialNB default values, try 2\n",
    "text_clf = Pipeline([\n",
    "    ('vect', CountVectorizer()),\n",
    "    ('tfidf', TfidfTransformer()),\n",
    "    ('clf', MultinomialNB()),\n",
    "])\n",
    "text_clf.fit(trainingData, trainingTarget)\n",
    "predicted = text_clf.predict(testingData)"
   ]
  },
  {
   "cell_type": "code",
   "execution_count": 168,
   "id": "deb38c2b",
   "metadata": {},
   "outputs": [
    {
     "name": "stdout",
     "output_type": "stream",
     "text": [
      "[[ 99   0   2   0   0]\n",
      " [  1  57   5   1   3]\n",
      " [  2   0  79   1   0]\n",
      " [  0   0   0 104   0]\n",
      " [  1   0   1   4  85]]\n"
     ]
    }
   ],
   "source": [
    "#(b)\n",
    "print(confusion_matrix(testingTarget, predicted))"
   ]
  },
  {
   "cell_type": "code",
   "execution_count": 169,
   "id": "c73c448c",
   "metadata": {},
   "outputs": [
    {
     "name": "stdout",
     "output_type": "stream",
     "text": [
      "               precision    recall  f1-score   support\n",
      "\n",
      "     business       0.96      0.98      0.97       101\n",
      "entertainment       1.00      0.85      0.92        67\n",
      "     politics       0.91      0.96      0.93        82\n",
      "       sports       0.95      1.00      0.97       104\n",
      "         tech       0.97      0.93      0.95        91\n",
      "\n",
      "     accuracy                           0.95       445\n",
      "    macro avg       0.96      0.95      0.95       445\n",
      " weighted avg       0.95      0.95      0.95       445\n",
      "\n"
     ]
    }
   ],
   "source": [
    "#(c) and (d)\n",
    "target_names = ['business', 'entertainment', 'politics', 'sports', 'tech']\n",
    "print(classification_report(testingTarget, predicted, target_names=target_names))"
   ]
  },
  {
   "cell_type": "code",
   "execution_count": 204,
   "id": "3da12b20",
   "metadata": {},
   "outputs": [],
   "source": [
    "#MultinomialNB smoothing value of 0.0001\n",
    "text_clf = Pipeline([\n",
    "    ('vect', CountVectorizer()),\n",
    "    ('tfidf', TfidfTransformer()),\n",
    "    ('clf', MultinomialNB(alpha=0.0001)),\n",
    "])\n",
    "text_clf.fit(trainingData, trainingTarget)\n",
    "predicted = text_clf.predict(testingData)"
   ]
  },
  {
   "cell_type": "code",
   "execution_count": 187,
   "id": "5ed2c18b",
   "metadata": {},
   "outputs": [
    {
     "name": "stdout",
     "output_type": "stream",
     "text": [
      "[[ 95   0   2   0   4]\n",
      " [  1  61   1   0   4]\n",
      " [  0   0  82   0   0]\n",
      " [  0   0   0 104   0]\n",
      " [  0   1   1   0  89]]\n"
     ]
    }
   ],
   "source": [
    "#(b)\n",
    "print(confusion_matrix(testingTarget, predicted))"
   ]
  },
  {
   "cell_type": "code",
   "execution_count": 188,
   "id": "e6f96594",
   "metadata": {},
   "outputs": [
    {
     "name": "stdout",
     "output_type": "stream",
     "text": [
      "               precision    recall  f1-score   support\n",
      "\n",
      "     business       0.99      0.94      0.96       101\n",
      "entertainment       0.98      0.91      0.95        67\n",
      "     politics       0.95      1.00      0.98        82\n",
      "       sports       1.00      1.00      1.00       104\n",
      "         tech       0.92      0.98      0.95        91\n",
      "\n",
      "     accuracy                           0.97       445\n",
      "    macro avg       0.97      0.97      0.97       445\n",
      " weighted avg       0.97      0.97      0.97       445\n",
      "\n"
     ]
    }
   ],
   "source": [
    "#(c) and (d)\n",
    "target_names = ['business', 'entertainment', 'politics', 'sports', 'tech']\n",
    "print(classification_report(testingTarget, predicted, target_names=target_names))"
   ]
  },
  {
   "cell_type": "code",
   "execution_count": 189,
   "id": "819580f1",
   "metadata": {},
   "outputs": [
    {
     "name": "stdout",
     "output_type": "stream",
     "text": [
      "0.9685393258426966\n"
     ]
    }
   ],
   "source": [
    "#(d)\n",
    "print(accuracy_score(testingTarget, predicted))"
   ]
  },
  {
   "cell_type": "code",
   "execution_count": 206,
   "id": "fb6e420f",
   "metadata": {},
   "outputs": [],
   "source": [
    "#MultinomialNB smoothing value of 0.9\n",
    "text_clf = Pipeline([\n",
    "    ('vect', CountVectorizer()),\n",
    "    ('tfidf', TfidfTransformer()),\n",
    "    ('clf', MultinomialNB(alpha=0.9)),\n",
    "])\n",
    "text_clf.fit(trainingData, trainingTarget)\n",
    "predicted = text_clf.predict(testingData)"
   ]
  },
  {
   "cell_type": "code",
   "execution_count": 198,
   "id": "2648e2c7",
   "metadata": {},
   "outputs": [
    {
     "name": "stdout",
     "output_type": "stream",
     "text": [
      "[[ 99   0   2   0   0]\n",
      " [  1  58   4   1   3]\n",
      " [  0   0  81   1   0]\n",
      " [  0   0   0 104   0]\n",
      " [  1   0   1   4  85]]\n"
     ]
    }
   ],
   "source": [
    "#(b)\n",
    "print(confusion_matrix(testingTarget, predicted))"
   ]
  },
  {
   "cell_type": "code",
   "execution_count": 199,
   "id": "18456fed",
   "metadata": {},
   "outputs": [
    {
     "name": "stdout",
     "output_type": "stream",
     "text": [
      "               precision    recall  f1-score   support\n",
      "\n",
      "     business       0.98      0.98      0.98       101\n",
      "entertainment       1.00      0.87      0.93        67\n",
      "     politics       0.92      0.99      0.95        82\n",
      "       sports       0.95      1.00      0.97       104\n",
      "         tech       0.97      0.93      0.95        91\n",
      "\n",
      "     accuracy                           0.96       445\n",
      "    macro avg       0.96      0.95      0.96       445\n",
      " weighted avg       0.96      0.96      0.96       445\n",
      "\n"
     ]
    }
   ],
   "source": [
    "#(c) and (d)\n",
    "target_names = ['business', 'entertainment', 'politics', 'sports', 'tech']\n",
    "print(classification_report(testingTarget, predicted, target_names=target_names))"
   ]
  },
  {
   "cell_type": "code",
   "execution_count": 200,
   "id": "8662271e",
   "metadata": {},
   "outputs": [
    {
     "name": "stdout",
     "output_type": "stream",
     "text": [
      "0.9595505617977528\n"
     ]
    }
   ],
   "source": [
    "#(d)\n",
    "print(accuracy_score(testingTarget, predicted))"
   ]
  }
 ],
 "metadata": {
  "kernelspec": {
   "display_name": "Python 3 (ipykernel)",
   "language": "python",
   "name": "python3"
  },
  "language_info": {
   "codemirror_mode": {
    "name": "ipython",
    "version": 3
   },
   "file_extension": ".py",
   "mimetype": "text/x-python",
   "name": "python",
   "nbconvert_exporter": "python",
   "pygments_lexer": "ipython3",
   "version": "3.9.5"
  }
 },
 "nbformat": 4,
 "nbformat_minor": 5
}
