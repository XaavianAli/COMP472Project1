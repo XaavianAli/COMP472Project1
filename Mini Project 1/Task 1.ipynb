{
 "cells": [
  {
   "cell_type": "code",
   "execution_count": 18,
   "id": "2e364d99",
   "metadata": {},
   "outputs": [],
   "source": [
    "import sklearn\n",
    "corpus = sklearn.datasets.load_files(\"BBC\", encoding=\"latin1\")"
   ]
  },
  {
   "cell_type": "code",
   "execution_count": 19,
   "id": "04a6dd87",
   "metadata": {},
   "outputs": [],
   "source": [
    "matrix = sklearn.feature_extraction.text.CountVectorizer(corpus)"
   ]
  },
  {
   "cell_type": "code",
   "execution_count": null,
   "id": "0c024283",
   "metadata": {},
   "outputs": [],
   "source": []
  }
 ],
 "metadata": {
  "kernelspec": {
   "display_name": "Python 3 (ipykernel)",
   "language": "python",
   "name": "python3"
  },
  "language_info": {
   "codemirror_mode": {
    "name": "ipython",
    "version": 3
   },
   "file_extension": ".py",
   "mimetype": "text/x-python",
   "name": "python",
   "nbconvert_exporter": "python",
   "pygments_lexer": "ipython3",
   "version": "3.9.5"
  }
 },
 "nbformat": 4,
 "nbformat_minor": 5
}
